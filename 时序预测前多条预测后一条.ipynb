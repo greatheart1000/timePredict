{
 "cells": [
  {
   "cell_type": "markdown",
   "metadata": {},
   "source": [
    "1、样本数据获取\n",
    "\n",
    "2、数据预处理\n",
    "\n",
    "3、重构数据结构，划分训练集与测试集\n",
    "\n",
    "4、LSTM模型构建与训练\n",
    "\n",
    "5、预测结果还原\n",
    "\n",
    "6、模型效果评估"
   ]
  },
  {
   "cell_type": "code",
   "execution_count": null,
   "metadata": {},
   "outputs": [],
   "source": [
    "# 1、样本数据获取\n",
    "import pandas as pd\n",
    " #加载数据\n",
    "ts_data0 = pd.read_excel(\"C:/Users/admin/Desktop/data.xlsx\",sheet_name='目标变量宽表')\n",
    "ts_data0['年月']=ts_data0['年月'].astype(object)\n",
    "ts_data0['年月'] = pd.to_datetime(ts_data0['年月'],format='%Y%m')\n",
    "tmp =ts_data0.set_index('年月')"
   ]
  },
  {
   "cell_type": "code",
   "execution_count": null,
   "metadata": {},
   "outputs": [],
   "source": [
    "2、数据预处理\n",
    "将目标变量时序数据进行z-score标准化处理，消除各变量间量纲差异可能带来的影响。"
   ]
  },
  {
   "cell_type": "code",
   "execution_count": null,
   "metadata": {},
   "outputs": [],
   "source": [
    "import numpy as np\n",
    " \n",
    "#数据预处理\n",
    "vmean = tmp.apply(lambda x:np.mean(x))\n",
    "vstd = tmp.apply(lambda x:np.std(x))\n",
    "t0 = tmp.apply(lambda x:(x-np.mean(x))/np.std(x)).values  #z-score标准化 "
   ]
  },
  {
   "cell_type": "code",
   "execution_count": null,
   "metadata": {},
   "outputs": [],
   "source": [
    "3、重构数据结构，划分训练集与测试集\n",
    "本例样本数据初始结构为二维表，索引为“年月”，共15列数据（目标变量），样本时序数据以12个月为一个波动周期。因此设置LSTM模型输入输出变量数dim=15，设置LSTM模型往前依赖的时序数据期数SEQLEN=15（稍大于周期月数12）；\n",
    "\n",
    "用于LSTM建模的输入数据需要整理成3维结构（数据块个数×SEQLEN个数据记录×dim个变量），输出仍为2维数据集。用前15（SEQLEN）条时序数据预测第16条数据；单个样本数据块为相邻15条15（dim）列，用以对第16条15（dim）列数据进行预测；验证集为5（test_len）个数据块，据此推导训练集大小；下期待预测的输入为最后15条15列数据。\n"
   ]
  },
  {
   "cell_type": "code",
   "execution_count": null,
   "metadata": {},
   "outputs": [],
   "source": [
    "#参数\n",
    "dim= 15#预测变量数\n",
    "SEQLEN = 15#依赖前期数据期数\n",
    "test_len=5\n",
    " \n",
    "#划分训练集与验证集\n",
    "X_train = np.zeros((t0.shape[0]-SEQLEN-test_len, SEQLEN, dim))#三维\n",
    "Y_train = np.zeros((t0.shape[0]-SEQLEN-test_len, dim),)#二维\n",
    "for i in range(SEQLEN, t0.shape[0]-test_len):\n",
    "    Y_train[i-SEQLEN] = t0[i]\n",
    "    X_train[i-SEQLEN] = t0[(i-SEQLEN):i]\n",
    "    \n",
    "X_test = np.zeros((test_len, SEQLEN, dim))\n",
    "Y_test = np.zeros((test_len, dim),)\n",
    "for i in range(t0.shape[0]-test_len,t0.shape[0]):\n",
    "    Y_test[i-t0.shape[0]+test_len] = t0[i]\n",
    "    X_test[i-t0.shape[0]+test_len] = t0[(i-SEQLEN):i]\n",
    " \n",
    "#下期数据预测输入\n",
    "X_pred = np.zeros((1, SEQLEN, dim))\n",
    "X_pred[0]=t0[t0.shape[0]-SEQLEN:t0.shape[0]]\n",
    " \n",
    "print(X_pred)"
   ]
  },
  {
   "cell_type": "code",
   "execution_count": null,
   "metadata": {},
   "outputs": [],
   "source": [
    "4、LSTM模型构建与训练\n",
    "在训练集上完成模型训练，设置隐含层神经元数量为45，初始迭代次数为2000次，每批次处理5个样本数据块。\n",
    "from keras.layers import LSTM, Dense\n",
    "from keras.models import Sequential\n",
    " \n",
    "#训练LSTM模型\n",
    "model = Sequential()\n",
    "model.add(LSTM(45, input_shape=(SEQLEN, dim),activation='relu',recurrent_dropout=0.01))\n",
    "model.add(Dense(dim,activation='linear'))\n",
    "model.compile(loss = 'mean_squared_error', optimizer = 'rmsprop')\n",
    "history = model.fit(X_train, Y_train, epochs=2000, batch_size=5, validation_split=0)\n"
   ]
  },
  {
   "cell_type": "code",
   "execution_count": null,
   "metadata": {},
   "outputs": [],
   "source": [
    "#迭代过程示例，损失函数loss逐渐下降，越往后降得越慢，直至收敛。\n",
    "import matplotlib.pyplot as plt\n",
    " \n",
    "#绘制损失函数\n",
    "plt.figure(figsize=(15,5))\n",
    "plt.plot(history.history['loss'], label='train')\n",
    "plt.legend()\n",
    "plt.show()"
   ]
  },
  {
   "cell_type": "code",
   "execution_count": null,
   "metadata": {},
   "outputs": [],
   "source": [
    "5、预测结果还原\n",
    "输出测试集预测结果，需对结果进行z-score标准化还原。\n",
    "#模型预测结果标准化还原\n",
    "pred_test=model.predict(X_test)*vstd.values+vmean.values\n",
    "preddf=model.predict(X_pred)*vstd.values+vmean.values\n",
    "pred = np.vstack((pred_test,preddf))"
   ]
  },
  {
   "cell_type": "code",
   "execution_count": null,
   "metadata": {},
   "outputs": [],
   "source": [
    "6、模型效果评估\n",
    "依次输出15个目标变量在各自测试集上的模型预测准确率，绘制15个目标变量实际值与预测值的曲线对比图（画布形状：15行1列）\n",
    "import matplotlib.pyplot as plt\n",
    "import matplotlib\n",
    "from matplotlib.font_manager import FontProperties\n",
    "font = FontProperties(fname=r\"c:\\windows\\fonts\\simsun.ttc\", size=14)\n",
    " \n",
    "#模型预测结果评估\n",
    "ts_data=tmp.copy()\n",
    "cols = ts_data.columns\n",
    "m = SEQLEN+1\n",
    "xts = tmp.index[-m::1]\n",
    " \n",
    "fig, axes = plt.subplots(15,1,figsize=(15,80))\n",
    "index = 0\n",
    "for ax in axes.flatten():\n",
    "    ax.plot(range(m),ts_data[cols].iloc[-m:,index],'-',c='lightgray',linewidth=2,label=\"real\")\n",
    "    ax.plot(range(m-test_len-1,m),pred[:,index],'o--',c='black',linewidth=2,label=\"predict\")\n",
    "    ax.set_xticks(np.arange(0, m, step=1))\n",
    "    ax.set_xticklabels(xts,rotation=50)\n",
    "    ax.set_ylabel(cols[index],fontproperties=font)\n",
    "    ax.legend()\n",
    "    result_ts=ts_data[cols].iloc[-(m-10):,index]\n",
    "    result_pred=pd.Series(pred[:,index],index=ts_data[cols].iloc[-(m-10):,index].index,name='pred')\n",
    "    result = pd.concat([result_ts, result_pred], axis=1)\n",
    "    result['accur']=100-abs((result['pred']-result[cols[index]])*100/result[cols[index]])\n",
    "    print(result)\n",
    "    index = index + 1\n",
    "plt.tight_layout()\n",
    "plt.show()"
   ]
  }
 ],
 "metadata": {
  "kernelspec": {
   "display_name": "Python 3",
   "language": "python",
   "name": "python3"
  },
  "language_info": {
   "codemirror_mode": {
    "name": "ipython",
    "version": 3
   },
   "file_extension": ".py",
   "mimetype": "text/x-python",
   "name": "python",
   "nbconvert_exporter": "python",
   "pygments_lexer": "ipython3",
   "version": "3.8.8"
  }
 },
 "nbformat": 4,
 "nbformat_minor": 4
}
